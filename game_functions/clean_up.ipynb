{
 "metadata": {
  "name": "",
  "signature": "sha256:8038338845cca188b9491d2c582b761547c274a337807268cc4116b898ffaf06"
 },
 "nbformat": 3,
 "nbformat_minor": 0,
 "worksheets": [
  {
   "cells": [
    {
     "cell_type": "code",
     "collapsed": false,
     "input": [
      "import os\n",
      "import glob\n",
      "import pprint as pp\n",
      "\n",
      "# current_dir = os.path.dirname(os.path.realpath('__file__'))\n",
      "# homepath=str(current_dir)\n",
      "\n",
      "\n",
      "current_dir = os.path.dirname(os.path.realpath('__file__'))\n",
      "print 'current_dir',current_dir\n",
      "dirname=list(current_dir.split('/'))\n",
      "length = len(current_dir)-len(dirname[len(dirname)-1])\n",
      "homepath = current_dir[:length]\n",
      "print 'homepath',homepath\n",
      "\n",
      "def delete_files(file_path,condition):\n",
      "    os.chdir(file_path)\n",
      "    current_files = glob.glob('*.xls')\n",
      "    print 'processing {}...'.format(file_path)\n",
      "    if condition:\n",
      "        for cond in condition:\n",
      "            inputfile = glob.glob(cond)\n",
      "            if inputfile:\n",
      "                for f in inputfile: \n",
      "                    print 'removing',cond, f\n",
      "                    os.remove(f)\n",
      "                current_files = glob.glob('*.xls')\n",
      "            if not inputfile: print 'found no match for', cond\n",
      "        print 'files remaining:',len(current_files)\n",
      "    else: print 'no condition given, do nothing.'\n",
      "    return current_files\n",
      "\n",
      "complete_datapath = homepath + 'data/complete_data/'\n",
      "datapath = homepath + 'data/'\n",
      "\n",
      "\n",
      "conditions = ['*conflicted copy*.xls','*conflicted copy*.log','*test*.xls','*test*.log']\n",
      "complete_data = delete_files(complete_datapath,conditions)\n",
      "other_data = delete_files(datapath,conditions)\n"
     ],
     "language": "python",
     "metadata": {},
     "outputs": [
      {
       "ename": "OSError",
       "evalue": "[Errno 2] No such file or directory: '/Users/chdlab/Dropbox/Dropbox_REaCh_Choice_Paradigm/data/data/data/complete_data/'",
       "output_type": "pyerr",
       "traceback": [
        "\u001b[0;31m---------------------------------------------------------------------------\u001b[0m\n\u001b[0;31mOSError\u001b[0m                                   Traceback (most recent call last)",
        "\u001b[0;32m<ipython-input-23-2c39cc685901>\u001b[0m in \u001b[0;36m<module>\u001b[0;34m()\u001b[0m\n\u001b[1;32m     27\u001b[0m \u001b[0;34m\u001b[0m\u001b[0m\n\u001b[1;32m     28\u001b[0m \u001b[0mconditions\u001b[0m \u001b[0;34m=\u001b[0m \u001b[0;34m[\u001b[0m\u001b[0;34m'*conflicted copy*.xls'\u001b[0m\u001b[0;34m,\u001b[0m\u001b[0;34m'*conflicted copy*.log'\u001b[0m\u001b[0;34m,\u001b[0m\u001b[0;34m'*test*.xls'\u001b[0m\u001b[0;34m,\u001b[0m\u001b[0;34m'*test*.log'\u001b[0m\u001b[0;34m]\u001b[0m\u001b[0;34m\u001b[0m\u001b[0m\n\u001b[0;32m---> 29\u001b[0;31m \u001b[0mcomplete_data\u001b[0m \u001b[0;34m=\u001b[0m \u001b[0mdelete_files\u001b[0m\u001b[0;34m(\u001b[0m\u001b[0mcomplete_datapath\u001b[0m\u001b[0;34m,\u001b[0m\u001b[0mconditions\u001b[0m\u001b[0;34m)\u001b[0m\u001b[0;34m\u001b[0m\u001b[0m\n\u001b[0m\u001b[1;32m     30\u001b[0m \u001b[0mother_data\u001b[0m \u001b[0;34m=\u001b[0m \u001b[0mdelete_files\u001b[0m\u001b[0;34m(\u001b[0m\u001b[0mdatapath\u001b[0m\u001b[0;34m,\u001b[0m\u001b[0mconditions\u001b[0m\u001b[0;34m)\u001b[0m\u001b[0;34m\u001b[0m\u001b[0m\n\u001b[1;32m     31\u001b[0m \u001b[0;34m\u001b[0m\u001b[0m\n",
        "\u001b[0;32m<ipython-input-23-2c39cc685901>\u001b[0m in \u001b[0;36mdelete_files\u001b[0;34m(file_path, condition)\u001b[0m\n\u001b[1;32m      7\u001b[0m \u001b[0;34m\u001b[0m\u001b[0m\n\u001b[1;32m      8\u001b[0m \u001b[0;32mdef\u001b[0m \u001b[0mdelete_files\u001b[0m\u001b[0;34m(\u001b[0m\u001b[0mfile_path\u001b[0m\u001b[0;34m,\u001b[0m\u001b[0mcondition\u001b[0m\u001b[0;34m)\u001b[0m\u001b[0;34m:\u001b[0m\u001b[0;34m\u001b[0m\u001b[0m\n\u001b[0;32m----> 9\u001b[0;31m     \u001b[0mos\u001b[0m\u001b[0;34m.\u001b[0m\u001b[0mchdir\u001b[0m\u001b[0;34m(\u001b[0m\u001b[0mfile_path\u001b[0m\u001b[0;34m)\u001b[0m\u001b[0;34m\u001b[0m\u001b[0m\n\u001b[0m\u001b[1;32m     10\u001b[0m     \u001b[0mcurrent_files\u001b[0m \u001b[0;34m=\u001b[0m \u001b[0mglob\u001b[0m\u001b[0;34m.\u001b[0m\u001b[0mglob\u001b[0m\u001b[0;34m(\u001b[0m\u001b[0;34m'*.xls'\u001b[0m\u001b[0;34m)\u001b[0m\u001b[0;34m\u001b[0m\u001b[0m\n\u001b[1;32m     11\u001b[0m     \u001b[0;32mprint\u001b[0m \u001b[0;34m'processing {}...'\u001b[0m\u001b[0;34m.\u001b[0m\u001b[0mformat\u001b[0m\u001b[0;34m(\u001b[0m\u001b[0mfile_path\u001b[0m\u001b[0;34m)\u001b[0m\u001b[0;34m\u001b[0m\u001b[0m\n",
        "\u001b[0;31mOSError\u001b[0m: [Errno 2] No such file or directory: '/Users/chdlab/Dropbox/Dropbox_REaCh_Choice_Paradigm/data/data/data/complete_data/'"
       ]
      }
     ],
     "prompt_number": 23
    },
    {
     "cell_type": "code",
     "collapsed": false,
     "input": [
      "name = '/Users/chdlab/Dropbox/Dropbox_REaCh_Choice_Paradigm/data/data/data/complete_data/'\n",
      "namelist=list(name.split('/'))\n",
      "namelist\n",
      "len(namelist)"
     ],
     "language": "python",
     "metadata": {},
     "outputs": [
      {
       "metadata": {},
       "output_type": "pyout",
       "prompt_number": 29,
       "text": [
        "10"
       ]
      }
     ],
     "prompt_number": 29
    },
    {
     "cell_type": "code",
     "collapsed": false,
     "input": [
      "import os\n",
      "current_dir = os.path.dirname(os.path.realpath('__file__'))\n",
      "namelist=list(current_dir.split('/'))\n",
      "length = len(current_dir)-len(namelist[len(namelist)-1])\n",
      "current_dir[:length]"
     ],
     "language": "python",
     "metadata": {},
     "outputs": [
      {
       "metadata": {},
       "output_type": "pyout",
       "prompt_number": 42,
       "text": [
        "'/Users/chdlab/Dropbox/Dropbox_REaCh_Choice_Paradigm/data/'"
       ]
      }
     ],
     "prompt_number": 42
    },
    {
     "cell_type": "code",
     "collapsed": false,
     "input": [],
     "language": "python",
     "metadata": {},
     "outputs": []
    }
   ],
   "metadata": {}
  }
 ]
}